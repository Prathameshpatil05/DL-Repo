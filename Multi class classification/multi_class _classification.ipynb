{
 "cells": [
  {
   "cell_type": "markdown",
   "metadata": {},
   "source": [
    "#### multi class classification \n"
   ]
  },
  {
   "cell_type": "code",
   "execution_count": 1,
   "metadata": {},
   "outputs": [],
   "source": [
    "from warnings import filterwarnings\n",
    "filterwarnings('ignore')"
   ]
  },
  {
   "cell_type": "markdown",
   "metadata": {},
   "source": [
    "#### craete a multi calss classification dataset "
   ]
  },
  {
   "cell_type": "code",
   "execution_count": 2,
   "metadata": {},
   "outputs": [],
   "source": [
    "from sklearn.datasets import make_classification\n",
    "x ,y =make_classification( n_samples=6000, n_features=30 , n_informative=15,n_classes=3 ,random_state=42)"
   ]
  },
  {
   "cell_type": "code",
   "execution_count": 3,
   "metadata": {},
   "outputs": [
    {
     "data": {
      "text/plain": [
       "array([[-1.44143883,  0.99759432,  0.64881894, ...,  0.26075709,\n",
       "        -2.4917032 , -0.52457062],\n",
       "       [-5.14274116,  2.44379509,  0.59681357, ..., -0.67343933,\n",
       "         2.13880873, -1.34828698],\n",
       "       [ 0.65562953, -1.84153079,  0.80405201, ..., -1.45272723,\n",
       "        -3.46992694,  1.12992925],\n",
       "       ...,\n",
       "       [ 4.12653393, -4.34701772, -0.2590811 , ..., -0.28741425,\n",
       "         7.28922344, -1.18100918],\n",
       "       [-0.71009863,  3.94052935,  1.83897001, ...,  3.29290311,\n",
       "         6.91505595,  0.80226731],\n",
       "       [ 1.24909105,  3.92319056, -0.05696048, ..., -2.61261051,\n",
       "        -3.21501144, -0.04845804]])"
      ]
     },
     "execution_count": 3,
     "metadata": {},
     "output_type": "execute_result"
    }
   ],
   "source": [
    "x\n"
   ]
  },
  {
   "cell_type": "code",
   "execution_count": 4,
   "metadata": {},
   "outputs": [
    {
     "data": {
      "text/plain": [
       "array([2, 2, 0, ..., 1, 0, 2])"
      ]
     },
     "execution_count": 4,
     "metadata": {},
     "output_type": "execute_result"
    }
   ],
   "source": [
    "y"
   ]
  },
  {
   "cell_type": "code",
   "execution_count": 5,
   "metadata": {},
   "outputs": [
    {
     "data": {
      "text/plain": [
       "array([0, 1, 2])"
      ]
     },
     "execution_count": 5,
     "metadata": {},
     "output_type": "execute_result"
    }
   ],
   "source": [
    "import numpy as np\n",
    "np.unique(y)"
   ]
  },
  {
   "cell_type": "markdown",
   "metadata": {},
   "source": [
    "### create dataframe for x and y "
   ]
  },
  {
   "cell_type": "code",
   "execution_count": 6,
   "metadata": {},
   "outputs": [],
   "source": [
    "cols = [f'x{i+1}'for i in range(30)]"
   ]
  },
  {
   "cell_type": "code",
   "execution_count": 7,
   "metadata": {},
   "outputs": [
    {
     "data": {
      "text/plain": [
       "['x1',\n",
       " 'x2',\n",
       " 'x3',\n",
       " 'x4',\n",
       " 'x5',\n",
       " 'x6',\n",
       " 'x7',\n",
       " 'x8',\n",
       " 'x9',\n",
       " 'x10',\n",
       " 'x11',\n",
       " 'x12',\n",
       " 'x13',\n",
       " 'x14',\n",
       " 'x15',\n",
       " 'x16',\n",
       " 'x17',\n",
       " 'x18',\n",
       " 'x19',\n",
       " 'x20',\n",
       " 'x21',\n",
       " 'x22',\n",
       " 'x23',\n",
       " 'x24',\n",
       " 'x25',\n",
       " 'x26',\n",
       " 'x27',\n",
       " 'x28',\n",
       " 'x29',\n",
       " 'x30']"
      ]
     },
     "execution_count": 7,
     "metadata": {},
     "output_type": "execute_result"
    }
   ],
   "source": [
    "cols"
   ]
  },
  {
   "cell_type": "code",
   "execution_count": 8,
   "metadata": {},
   "outputs": [
    {
     "data": {
      "text/html": [
       "<div>\n",
       "<style scoped>\n",
       "    .dataframe tbody tr th:only-of-type {\n",
       "        vertical-align: middle;\n",
       "    }\n",
       "\n",
       "    .dataframe tbody tr th {\n",
       "        vertical-align: top;\n",
       "    }\n",
       "\n",
       "    .dataframe thead th {\n",
       "        text-align: right;\n",
       "    }\n",
       "</style>\n",
       "<table border=\"1\" class=\"dataframe\">\n",
       "  <thead>\n",
       "    <tr style=\"text-align: right;\">\n",
       "      <th></th>\n",
       "      <th>x1</th>\n",
       "      <th>x2</th>\n",
       "      <th>x3</th>\n",
       "      <th>x4</th>\n",
       "      <th>x5</th>\n",
       "      <th>x6</th>\n",
       "      <th>x7</th>\n",
       "      <th>x8</th>\n",
       "      <th>x9</th>\n",
       "      <th>x10</th>\n",
       "      <th>...</th>\n",
       "      <th>x21</th>\n",
       "      <th>x22</th>\n",
       "      <th>x23</th>\n",
       "      <th>x24</th>\n",
       "      <th>x25</th>\n",
       "      <th>x26</th>\n",
       "      <th>x27</th>\n",
       "      <th>x28</th>\n",
       "      <th>x29</th>\n",
       "      <th>x30</th>\n",
       "    </tr>\n",
       "  </thead>\n",
       "  <tbody>\n",
       "    <tr>\n",
       "      <th>0</th>\n",
       "      <td>-1.441439</td>\n",
       "      <td>0.997594</td>\n",
       "      <td>0.648819</td>\n",
       "      <td>-0.939605</td>\n",
       "      <td>1.757397</td>\n",
       "      <td>0.578914</td>\n",
       "      <td>2.427303</td>\n",
       "      <td>-2.051151</td>\n",
       "      <td>2.229941</td>\n",
       "      <td>4.161986</td>\n",
       "      <td>...</td>\n",
       "      <td>-1.479880</td>\n",
       "      <td>-0.348015</td>\n",
       "      <td>-0.607153</td>\n",
       "      <td>-1.081817</td>\n",
       "      <td>-1.993413</td>\n",
       "      <td>1.533084</td>\n",
       "      <td>-1.496706</td>\n",
       "      <td>0.260757</td>\n",
       "      <td>-2.491703</td>\n",
       "      <td>-0.524571</td>\n",
       "    </tr>\n",
       "    <tr>\n",
       "      <th>1</th>\n",
       "      <td>-5.142741</td>\n",
       "      <td>2.443795</td>\n",
       "      <td>0.596814</td>\n",
       "      <td>-5.863056</td>\n",
       "      <td>1.387833</td>\n",
       "      <td>0.481951</td>\n",
       "      <td>4.083274</td>\n",
       "      <td>-0.973058</td>\n",
       "      <td>0.552966</td>\n",
       "      <td>2.620579</td>\n",
       "      <td>...</td>\n",
       "      <td>-0.743816</td>\n",
       "      <td>-0.382961</td>\n",
       "      <td>-0.274725</td>\n",
       "      <td>-0.832032</td>\n",
       "      <td>-1.148192</td>\n",
       "      <td>-0.926654</td>\n",
       "      <td>0.970663</td>\n",
       "      <td>-0.673439</td>\n",
       "      <td>2.138809</td>\n",
       "      <td>-1.348287</td>\n",
       "    </tr>\n",
       "    <tr>\n",
       "      <th>2</th>\n",
       "      <td>0.655630</td>\n",
       "      <td>-1.841531</td>\n",
       "      <td>0.804052</td>\n",
       "      <td>2.357834</td>\n",
       "      <td>-4.326275</td>\n",
       "      <td>-0.973050</td>\n",
       "      <td>-4.126278</td>\n",
       "      <td>-6.036214</td>\n",
       "      <td>-3.200378</td>\n",
       "      <td>1.758776</td>\n",
       "      <td>...</td>\n",
       "      <td>0.240042</td>\n",
       "      <td>-1.137683</td>\n",
       "      <td>-0.927894</td>\n",
       "      <td>0.697630</td>\n",
       "      <td>0.631764</td>\n",
       "      <td>0.240156</td>\n",
       "      <td>0.139782</td>\n",
       "      <td>-1.452727</td>\n",
       "      <td>-3.469927</td>\n",
       "      <td>1.129929</td>\n",
       "    </tr>\n",
       "    <tr>\n",
       "      <th>3</th>\n",
       "      <td>-1.598327</td>\n",
       "      <td>1.024581</td>\n",
       "      <td>0.237928</td>\n",
       "      <td>1.391549</td>\n",
       "      <td>-0.488321</td>\n",
       "      <td>-1.089719</td>\n",
       "      <td>-3.627360</td>\n",
       "      <td>0.757025</td>\n",
       "      <td>-0.750550</td>\n",
       "      <td>1.952786</td>\n",
       "      <td>...</td>\n",
       "      <td>1.769143</td>\n",
       "      <td>0.310551</td>\n",
       "      <td>1.196544</td>\n",
       "      <td>1.108069</td>\n",
       "      <td>0.824942</td>\n",
       "      <td>0.480005</td>\n",
       "      <td>1.255185</td>\n",
       "      <td>-1.671230</td>\n",
       "      <td>3.642342</td>\n",
       "      <td>-1.862065</td>\n",
       "    </tr>\n",
       "    <tr>\n",
       "      <th>4</th>\n",
       "      <td>-1.079465</td>\n",
       "      <td>-0.613138</td>\n",
       "      <td>-2.654921</td>\n",
       "      <td>1.533515</td>\n",
       "      <td>1.009928</td>\n",
       "      <td>-0.910633</td>\n",
       "      <td>-0.973801</td>\n",
       "      <td>-1.726216</td>\n",
       "      <td>-2.431381</td>\n",
       "      <td>1.305569</td>\n",
       "      <td>...</td>\n",
       "      <td>0.724812</td>\n",
       "      <td>1.708111</td>\n",
       "      <td>-0.302242</td>\n",
       "      <td>0.858970</td>\n",
       "      <td>0.878317</td>\n",
       "      <td>-0.369408</td>\n",
       "      <td>0.278626</td>\n",
       "      <td>-2.291166</td>\n",
       "      <td>-0.044003</td>\n",
       "      <td>0.627598</td>\n",
       "    </tr>\n",
       "  </tbody>\n",
       "</table>\n",
       "<p>5 rows × 30 columns</p>\n",
       "</div>"
      ],
      "text/plain": [
       "         x1        x2        x3        x4        x5        x6        x7  \\\n",
       "0 -1.441439  0.997594  0.648819 -0.939605  1.757397  0.578914  2.427303   \n",
       "1 -5.142741  2.443795  0.596814 -5.863056  1.387833  0.481951  4.083274   \n",
       "2  0.655630 -1.841531  0.804052  2.357834 -4.326275 -0.973050 -4.126278   \n",
       "3 -1.598327  1.024581  0.237928  1.391549 -0.488321 -1.089719 -3.627360   \n",
       "4 -1.079465 -0.613138 -2.654921  1.533515  1.009928 -0.910633 -0.973801   \n",
       "\n",
       "         x8        x9       x10  ...       x21       x22       x23       x24  \\\n",
       "0 -2.051151  2.229941  4.161986  ... -1.479880 -0.348015 -0.607153 -1.081817   \n",
       "1 -0.973058  0.552966  2.620579  ... -0.743816 -0.382961 -0.274725 -0.832032   \n",
       "2 -6.036214 -3.200378  1.758776  ...  0.240042 -1.137683 -0.927894  0.697630   \n",
       "3  0.757025 -0.750550  1.952786  ...  1.769143  0.310551  1.196544  1.108069   \n",
       "4 -1.726216 -2.431381  1.305569  ...  0.724812  1.708111 -0.302242  0.858970   \n",
       "\n",
       "        x25       x26       x27       x28       x29       x30  \n",
       "0 -1.993413  1.533084 -1.496706  0.260757 -2.491703 -0.524571  \n",
       "1 -1.148192 -0.926654  0.970663 -0.673439  2.138809 -1.348287  \n",
       "2  0.631764  0.240156  0.139782 -1.452727 -3.469927  1.129929  \n",
       "3  0.824942  0.480005  1.255185 -1.671230  3.642342 -1.862065  \n",
       "4  0.878317 -0.369408  0.278626 -2.291166 -0.044003  0.627598  \n",
       "\n",
       "[5 rows x 30 columns]"
      ]
     },
     "execution_count": 8,
     "metadata": {},
     "output_type": "execute_result"
    }
   ],
   "source": [
    "import pandas as pd \n",
    "x =pd.DataFrame(x , columns=cols)\n",
    "x.head()"
   ]
  },
  {
   "cell_type": "code",
   "execution_count": 9,
   "metadata": {},
   "outputs": [],
   "source": [
    "y =pd.DataFrame(y , columns=['y'])"
   ]
  },
  {
   "cell_type": "code",
   "execution_count": 10,
   "metadata": {},
   "outputs": [
    {
     "data": {
      "text/html": [
       "<div>\n",
       "<style scoped>\n",
       "    .dataframe tbody tr th:only-of-type {\n",
       "        vertical-align: middle;\n",
       "    }\n",
       "\n",
       "    .dataframe tbody tr th {\n",
       "        vertical-align: top;\n",
       "    }\n",
       "\n",
       "    .dataframe thead th {\n",
       "        text-align: right;\n",
       "    }\n",
       "</style>\n",
       "<table border=\"1\" class=\"dataframe\">\n",
       "  <thead>\n",
       "    <tr style=\"text-align: right;\">\n",
       "      <th></th>\n",
       "      <th>y</th>\n",
       "    </tr>\n",
       "  </thead>\n",
       "  <tbody>\n",
       "    <tr>\n",
       "      <th>0</th>\n",
       "      <td>2</td>\n",
       "    </tr>\n",
       "    <tr>\n",
       "      <th>1</th>\n",
       "      <td>2</td>\n",
       "    </tr>\n",
       "    <tr>\n",
       "      <th>2</th>\n",
       "      <td>0</td>\n",
       "    </tr>\n",
       "    <tr>\n",
       "      <th>3</th>\n",
       "      <td>0</td>\n",
       "    </tr>\n",
       "    <tr>\n",
       "      <th>4</th>\n",
       "      <td>0</td>\n",
       "    </tr>\n",
       "  </tbody>\n",
       "</table>\n",
       "</div>"
      ],
      "text/plain": [
       "   y\n",
       "0  2\n",
       "1  2\n",
       "2  0\n",
       "3  0\n",
       "4  0"
      ]
     },
     "execution_count": 10,
     "metadata": {},
     "output_type": "execute_result"
    }
   ],
   "source": [
    "y.head()"
   ]
  },
  {
   "cell_type": "code",
   "execution_count": 11,
   "metadata": {},
   "outputs": [
    {
     "data": {
      "text/plain": [
       "y\n",
       "1    2004\n",
       "2    2000\n",
       "0    1996\n",
       "Name: count, dtype: int64"
      ]
     },
     "execution_count": 11,
     "metadata": {},
     "output_type": "execute_result"
    }
   ],
   "source": [
    "y.value_counts()"
   ]
  },
  {
   "cell_type": "markdown",
   "metadata": {},
   "source": [
    "### perprocessing for y "
   ]
  },
  {
   "cell_type": "code",
   "execution_count": 12,
   "metadata": {},
   "outputs": [],
   "source": [
    "from keras.utils import to_categorical\n",
    "y_cat =to_categorical(y)"
   ]
  },
  {
   "cell_type": "code",
   "execution_count": 13,
   "metadata": {},
   "outputs": [
    {
     "data": {
      "text/plain": [
       "array([[0., 0., 1.],\n",
       "       [0., 0., 1.],\n",
       "       [1., 0., 0.],\n",
       "       ...,\n",
       "       [0., 1., 0.],\n",
       "       [1., 0., 0.],\n",
       "       [0., 0., 1.]], dtype=float32)"
      ]
     },
     "execution_count": 13,
     "metadata": {},
     "output_type": "execute_result"
    }
   ],
   "source": [
    "y_cat"
   ]
  },
  {
   "cell_type": "markdown",
   "metadata": {},
   "source": [
    "### craete a preprocessiung pipeline for x "
   ]
  },
  {
   "cell_type": "code",
   "execution_count": 14,
   "metadata": {},
   "outputs": [],
   "source": [
    "from sklearn.pipeline import Pipeline\n",
    "from sklearn.impute import SimpleImputer\n",
    "from sklearn.preprocessing import StandardScaler"
   ]
  },
  {
   "cell_type": "code",
   "execution_count": 15,
   "metadata": {},
   "outputs": [],
   "source": [
    "num_pipe =Pipeline(steps=[('impute',SimpleImputer(strategy='median')),\n",
    "                          ('scaler',StandardScaler())])"
   ]
  },
  {
   "cell_type": "code",
   "execution_count": 16,
   "metadata": {},
   "outputs": [
    {
     "data": {
      "text/plain": [
       "array([[-0.52671961,  0.27230193,  0.65623137, ...,  0.23135323,\n",
       "        -0.25895458, -0.52958856],\n",
       "       [-1.93121764,  0.87478938,  0.6049309 , ..., -0.14098636,\n",
       "         0.73357158, -1.35982943],\n",
       "       [ 0.269035  , -0.91047798,  0.80936035, ..., -0.45158456,\n",
       "        -0.46863176,  1.13801631],\n",
       "       ...,\n",
       "       [ 1.58610611, -1.95426419, -0.23936264, ...,  0.01287038,\n",
       "         1.8375362 , -1.19122665],\n",
       "       [-0.2492049 ,  1.49832908,  1.83025067, ...,  1.43986566,\n",
       "         1.75733535,  0.80775901],\n",
       "       [ 0.4942302 ,  1.49110574, -0.03998164, ..., -0.91387541,\n",
       "        -0.41399194, -0.04970478]])"
      ]
     },
     "execution_count": 16,
     "metadata": {},
     "output_type": "execute_result"
    }
   ],
   "source": [
    "x_pre =num_pipe.fit_transform(x)\n",
    "x_pre"
   ]
  },
  {
   "cell_type": "code",
   "execution_count": 17,
   "metadata": {},
   "outputs": [
    {
     "data": {
      "text/plain": [
       "array(['x1', 'x2', 'x3', 'x4', 'x5', 'x6', 'x7', 'x8', 'x9', 'x10', 'x11',\n",
       "       'x12', 'x13', 'x14', 'x15', 'x16', 'x17', 'x18', 'x19', 'x20',\n",
       "       'x21', 'x22', 'x23', 'x24', 'x25', 'x26', 'x27', 'x28', 'x29',\n",
       "       'x30'], dtype=object)"
      ]
     },
     "execution_count": 17,
     "metadata": {},
     "output_type": "execute_result"
    }
   ],
   "source": [
    "cols = num_pipe.get_feature_names_out()\n",
    "cols"
   ]
  },
  {
   "cell_type": "code",
   "execution_count": 18,
   "metadata": {},
   "outputs": [
    {
     "data": {
      "text/html": [
       "<div>\n",
       "<style scoped>\n",
       "    .dataframe tbody tr th:only-of-type {\n",
       "        vertical-align: middle;\n",
       "    }\n",
       "\n",
       "    .dataframe tbody tr th {\n",
       "        vertical-align: top;\n",
       "    }\n",
       "\n",
       "    .dataframe thead th {\n",
       "        text-align: right;\n",
       "    }\n",
       "</style>\n",
       "<table border=\"1\" class=\"dataframe\">\n",
       "  <thead>\n",
       "    <tr style=\"text-align: right;\">\n",
       "      <th></th>\n",
       "      <th>x1</th>\n",
       "      <th>x2</th>\n",
       "      <th>x3</th>\n",
       "      <th>x4</th>\n",
       "      <th>x5</th>\n",
       "      <th>x6</th>\n",
       "      <th>x7</th>\n",
       "      <th>x8</th>\n",
       "      <th>x9</th>\n",
       "      <th>x10</th>\n",
       "      <th>...</th>\n",
       "      <th>x21</th>\n",
       "      <th>x22</th>\n",
       "      <th>x23</th>\n",
       "      <th>x24</th>\n",
       "      <th>x25</th>\n",
       "      <th>x26</th>\n",
       "      <th>x27</th>\n",
       "      <th>x28</th>\n",
       "      <th>x29</th>\n",
       "      <th>x30</th>\n",
       "    </tr>\n",
       "  </thead>\n",
       "  <tbody>\n",
       "    <tr>\n",
       "      <th>0</th>\n",
       "      <td>-0.526720</td>\n",
       "      <td>0.272302</td>\n",
       "      <td>0.656231</td>\n",
       "      <td>-0.225921</td>\n",
       "      <td>0.751405</td>\n",
       "      <td>0.574286</td>\n",
       "      <td>1.249114</td>\n",
       "      <td>-0.570934</td>\n",
       "      <td>0.927751</td>\n",
       "      <td>1.673181</td>\n",
       "      <td>...</td>\n",
       "      <td>-1.489109</td>\n",
       "      <td>-0.340353</td>\n",
       "      <td>-0.625233</td>\n",
       "      <td>-1.075979</td>\n",
       "      <td>-0.827133</td>\n",
       "      <td>1.529565</td>\n",
       "      <td>-1.530454</td>\n",
       "      <td>0.231353</td>\n",
       "      <td>-0.258955</td>\n",
       "      <td>-0.529589</td>\n",
       "    </tr>\n",
       "    <tr>\n",
       "      <th>1</th>\n",
       "      <td>-1.931218</td>\n",
       "      <td>0.874789</td>\n",
       "      <td>0.604931</td>\n",
       "      <td>-2.081035</td>\n",
       "      <td>0.592913</td>\n",
       "      <td>0.476724</td>\n",
       "      <td>2.000062</td>\n",
       "      <td>-0.120260</td>\n",
       "      <td>0.223806</td>\n",
       "      <td>0.998535</td>\n",
       "      <td>...</td>\n",
       "      <td>-0.752340</td>\n",
       "      <td>-0.375454</td>\n",
       "      <td>-0.294869</td>\n",
       "      <td>-0.826403</td>\n",
       "      <td>-0.483039</td>\n",
       "      <td>-0.934985</td>\n",
       "      <td>0.957838</td>\n",
       "      <td>-0.140986</td>\n",
       "      <td>0.733572</td>\n",
       "      <td>-1.359829</td>\n",
       "    </tr>\n",
       "    <tr>\n",
       "      <th>2</th>\n",
       "      <td>0.269035</td>\n",
       "      <td>-0.910478</td>\n",
       "      <td>0.809360</td>\n",
       "      <td>1.016526</td>\n",
       "      <td>-1.857657</td>\n",
       "      <td>-0.987252</td>\n",
       "      <td>-1.722796</td>\n",
       "      <td>-2.236805</td>\n",
       "      <td>-1.351737</td>\n",
       "      <td>0.621340</td>\n",
       "      <td>...</td>\n",
       "      <td>0.232462</td>\n",
       "      <td>-1.133510</td>\n",
       "      <td>-0.943983</td>\n",
       "      <td>0.701980</td>\n",
       "      <td>0.241593</td>\n",
       "      <td>0.234107</td>\n",
       "      <td>0.119910</td>\n",
       "      <td>-0.451585</td>\n",
       "      <td>-0.468632</td>\n",
       "      <td>1.138016</td>\n",
       "    </tr>\n",
       "    <tr>\n",
       "      <th>3</th>\n",
       "      <td>-0.586253</td>\n",
       "      <td>0.283545</td>\n",
       "      <td>0.250910</td>\n",
       "      <td>0.652438</td>\n",
       "      <td>-0.211700</td>\n",
       "      <td>-1.104641</td>\n",
       "      <td>-1.496547</td>\n",
       "      <td>0.602964</td>\n",
       "      <td>-0.323371</td>\n",
       "      <td>0.706255</td>\n",
       "      <td>...</td>\n",
       "      <td>1.763030</td>\n",
       "      <td>0.321121</td>\n",
       "      <td>1.167266</td>\n",
       "      <td>1.112076</td>\n",
       "      <td>0.320237</td>\n",
       "      <td>0.474425</td>\n",
       "      <td>1.244772</td>\n",
       "      <td>-0.538672</td>\n",
       "      <td>1.055846</td>\n",
       "      <td>-1.877677</td>\n",
       "    </tr>\n",
       "    <tr>\n",
       "      <th>4</th>\n",
       "      <td>-0.389365</td>\n",
       "      <td>-0.398729</td>\n",
       "      <td>-2.602729</td>\n",
       "      <td>0.705930</td>\n",
       "      <td>0.430843</td>\n",
       "      <td>-0.924450</td>\n",
       "      <td>-0.293215</td>\n",
       "      <td>-0.435102</td>\n",
       "      <td>-1.028935</td>\n",
       "      <td>0.422980</td>\n",
       "      <td>...</td>\n",
       "      <td>0.717698</td>\n",
       "      <td>1.724856</td>\n",
       "      <td>-0.322215</td>\n",
       "      <td>0.863185</td>\n",
       "      <td>0.341966</td>\n",
       "      <td>-0.376649</td>\n",
       "      <td>0.259932</td>\n",
       "      <td>-0.785758</td>\n",
       "      <td>0.265697</td>\n",
       "      <td>0.631707</td>\n",
       "    </tr>\n",
       "  </tbody>\n",
       "</table>\n",
       "<p>5 rows × 30 columns</p>\n",
       "</div>"
      ],
      "text/plain": [
       "         x1        x2        x3        x4        x5        x6        x7  \\\n",
       "0 -0.526720  0.272302  0.656231 -0.225921  0.751405  0.574286  1.249114   \n",
       "1 -1.931218  0.874789  0.604931 -2.081035  0.592913  0.476724  2.000062   \n",
       "2  0.269035 -0.910478  0.809360  1.016526 -1.857657 -0.987252 -1.722796   \n",
       "3 -0.586253  0.283545  0.250910  0.652438 -0.211700 -1.104641 -1.496547   \n",
       "4 -0.389365 -0.398729 -2.602729  0.705930  0.430843 -0.924450 -0.293215   \n",
       "\n",
       "         x8        x9       x10  ...       x21       x22       x23       x24  \\\n",
       "0 -0.570934  0.927751  1.673181  ... -1.489109 -0.340353 -0.625233 -1.075979   \n",
       "1 -0.120260  0.223806  0.998535  ... -0.752340 -0.375454 -0.294869 -0.826403   \n",
       "2 -2.236805 -1.351737  0.621340  ...  0.232462 -1.133510 -0.943983  0.701980   \n",
       "3  0.602964 -0.323371  0.706255  ...  1.763030  0.321121  1.167266  1.112076   \n",
       "4 -0.435102 -1.028935  0.422980  ...  0.717698  1.724856 -0.322215  0.863185   \n",
       "\n",
       "        x25       x26       x27       x28       x29       x30  \n",
       "0 -0.827133  1.529565 -1.530454  0.231353 -0.258955 -0.529589  \n",
       "1 -0.483039 -0.934985  0.957838 -0.140986  0.733572 -1.359829  \n",
       "2  0.241593  0.234107  0.119910 -0.451585 -0.468632  1.138016  \n",
       "3  0.320237  0.474425  1.244772 -0.538672  1.055846 -1.877677  \n",
       "4  0.341966 -0.376649  0.259932 -0.785758  0.265697  0.631707  \n",
       "\n",
       "[5 rows x 30 columns]"
      ]
     },
     "execution_count": 18,
     "metadata": {},
     "output_type": "execute_result"
    }
   ],
   "source": [
    "x_pre =pd.DataFrame(x_pre ,columns=cols)\n",
    "x_pre.head()"
   ]
  },
  {
   "cell_type": "markdown",
   "metadata": {},
   "source": [
    "### train test split "
   ]
  },
  {
   "cell_type": "code",
   "execution_count": 19,
   "metadata": {},
   "outputs": [],
   "source": [
    "from sklearn.model_selection import train_test_split\n",
    "xtarin , xtest , ytrain, ytest= train_test_split(x_pre , y_cat,test_size=0.2,random_state=42)"
   ]
  },
  {
   "cell_type": "code",
   "execution_count": 20,
   "metadata": {},
   "outputs": [
    {
     "data": {
      "text/html": [
       "<div>\n",
       "<style scoped>\n",
       "    .dataframe tbody tr th:only-of-type {\n",
       "        vertical-align: middle;\n",
       "    }\n",
       "\n",
       "    .dataframe tbody tr th {\n",
       "        vertical-align: top;\n",
       "    }\n",
       "\n",
       "    .dataframe thead th {\n",
       "        text-align: right;\n",
       "    }\n",
       "</style>\n",
       "<table border=\"1\" class=\"dataframe\">\n",
       "  <thead>\n",
       "    <tr style=\"text-align: right;\">\n",
       "      <th></th>\n",
       "      <th>x1</th>\n",
       "      <th>x2</th>\n",
       "      <th>x3</th>\n",
       "      <th>x4</th>\n",
       "      <th>x5</th>\n",
       "      <th>x6</th>\n",
       "      <th>x7</th>\n",
       "      <th>x8</th>\n",
       "      <th>x9</th>\n",
       "      <th>x10</th>\n",
       "      <th>...</th>\n",
       "      <th>x21</th>\n",
       "      <th>x22</th>\n",
       "      <th>x23</th>\n",
       "      <th>x24</th>\n",
       "      <th>x25</th>\n",
       "      <th>x26</th>\n",
       "      <th>x27</th>\n",
       "      <th>x28</th>\n",
       "      <th>x29</th>\n",
       "      <th>x30</th>\n",
       "    </tr>\n",
       "  </thead>\n",
       "  <tbody>\n",
       "    <tr>\n",
       "      <th>3897</th>\n",
       "      <td>-0.543571</td>\n",
       "      <td>-0.019042</td>\n",
       "      <td>0.045309</td>\n",
       "      <td>-0.580487</td>\n",
       "      <td>0.152804</td>\n",
       "      <td>0.893800</td>\n",
       "      <td>0.457580</td>\n",
       "      <td>0.162031</td>\n",
       "      <td>0.012832</td>\n",
       "      <td>-1.475231</td>\n",
       "      <td>...</td>\n",
       "      <td>1.748269</td>\n",
       "      <td>-0.323666</td>\n",
       "      <td>-1.498440</td>\n",
       "      <td>-0.801106</td>\n",
       "      <td>-0.019642</td>\n",
       "      <td>0.594704</td>\n",
       "      <td>0.302236</td>\n",
       "      <td>0.513468</td>\n",
       "      <td>-0.285997</td>\n",
       "      <td>0.303386</td>\n",
       "    </tr>\n",
       "    <tr>\n",
       "      <th>5628</th>\n",
       "      <td>1.011186</td>\n",
       "      <td>-0.020967</td>\n",
       "      <td>-1.607443</td>\n",
       "      <td>-2.033375</td>\n",
       "      <td>0.045647</td>\n",
       "      <td>-0.149993</td>\n",
       "      <td>0.266554</td>\n",
       "      <td>0.243799</td>\n",
       "      <td>-0.008622</td>\n",
       "      <td>1.253602</td>\n",
       "      <td>...</td>\n",
       "      <td>-0.809695</td>\n",
       "      <td>-1.039981</td>\n",
       "      <td>0.965447</td>\n",
       "      <td>-0.832631</td>\n",
       "      <td>-2.027918</td>\n",
       "      <td>-0.157857</td>\n",
       "      <td>0.679601</td>\n",
       "      <td>-0.088923</td>\n",
       "      <td>-0.944892</td>\n",
       "      <td>-0.699163</td>\n",
       "    </tr>\n",
       "    <tr>\n",
       "      <th>1756</th>\n",
       "      <td>-1.697553</td>\n",
       "      <td>-0.875006</td>\n",
       "      <td>-0.394224</td>\n",
       "      <td>-1.912509</td>\n",
       "      <td>0.167416</td>\n",
       "      <td>-0.617574</td>\n",
       "      <td>0.588293</td>\n",
       "      <td>0.809653</td>\n",
       "      <td>1.569820</td>\n",
       "      <td>0.648541</td>\n",
       "      <td>...</td>\n",
       "      <td>1.052694</td>\n",
       "      <td>1.478953</td>\n",
       "      <td>2.051413</td>\n",
       "      <td>0.138883</td>\n",
       "      <td>-0.957434</td>\n",
       "      <td>0.526127</td>\n",
       "      <td>-0.019683</td>\n",
       "      <td>-0.842406</td>\n",
       "      <td>-0.879651</td>\n",
       "      <td>-0.759638</td>\n",
       "    </tr>\n",
       "    <tr>\n",
       "      <th>2346</th>\n",
       "      <td>-0.695023</td>\n",
       "      <td>-1.402155</td>\n",
       "      <td>1.975044</td>\n",
       "      <td>0.467674</td>\n",
       "      <td>-0.199899</td>\n",
       "      <td>-1.841401</td>\n",
       "      <td>-0.883977</td>\n",
       "      <td>-0.010609</td>\n",
       "      <td>-0.403109</td>\n",
       "      <td>-0.744025</td>\n",
       "      <td>...</td>\n",
       "      <td>-0.640925</td>\n",
       "      <td>1.804151</td>\n",
       "      <td>-0.465239</td>\n",
       "      <td>-1.137112</td>\n",
       "      <td>0.155095</td>\n",
       "      <td>-0.143831</td>\n",
       "      <td>0.758476</td>\n",
       "      <td>-0.075998</td>\n",
       "      <td>-1.059547</td>\n",
       "      <td>-0.109672</td>\n",
       "    </tr>\n",
       "    <tr>\n",
       "      <th>2996</th>\n",
       "      <td>0.690033</td>\n",
       "      <td>-0.477324</td>\n",
       "      <td>1.024073</td>\n",
       "      <td>1.154438</td>\n",
       "      <td>0.391757</td>\n",
       "      <td>-0.042410</td>\n",
       "      <td>1.986831</td>\n",
       "      <td>1.671135</td>\n",
       "      <td>1.869289</td>\n",
       "      <td>-0.692286</td>\n",
       "      <td>...</td>\n",
       "      <td>1.615828</td>\n",
       "      <td>-0.709746</td>\n",
       "      <td>-0.478441</td>\n",
       "      <td>1.359778</td>\n",
       "      <td>0.281754</td>\n",
       "      <td>-1.950171</td>\n",
       "      <td>-0.372190</td>\n",
       "      <td>0.497917</td>\n",
       "      <td>1.159817</td>\n",
       "      <td>0.812185</td>\n",
       "    </tr>\n",
       "  </tbody>\n",
       "</table>\n",
       "<p>5 rows × 30 columns</p>\n",
       "</div>"
      ],
      "text/plain": [
       "            x1        x2        x3        x4        x5        x6        x7  \\\n",
       "3897 -0.543571 -0.019042  0.045309 -0.580487  0.152804  0.893800  0.457580   \n",
       "5628  1.011186 -0.020967 -1.607443 -2.033375  0.045647 -0.149993  0.266554   \n",
       "1756 -1.697553 -0.875006 -0.394224 -1.912509  0.167416 -0.617574  0.588293   \n",
       "2346 -0.695023 -1.402155  1.975044  0.467674 -0.199899 -1.841401 -0.883977   \n",
       "2996  0.690033 -0.477324  1.024073  1.154438  0.391757 -0.042410  1.986831   \n",
       "\n",
       "            x8        x9       x10  ...       x21       x22       x23  \\\n",
       "3897  0.162031  0.012832 -1.475231  ...  1.748269 -0.323666 -1.498440   \n",
       "5628  0.243799 -0.008622  1.253602  ... -0.809695 -1.039981  0.965447   \n",
       "1756  0.809653  1.569820  0.648541  ...  1.052694  1.478953  2.051413   \n",
       "2346 -0.010609 -0.403109 -0.744025  ... -0.640925  1.804151 -0.465239   \n",
       "2996  1.671135  1.869289 -0.692286  ...  1.615828 -0.709746 -0.478441   \n",
       "\n",
       "           x24       x25       x26       x27       x28       x29       x30  \n",
       "3897 -0.801106 -0.019642  0.594704  0.302236  0.513468 -0.285997  0.303386  \n",
       "5628 -0.832631 -2.027918 -0.157857  0.679601 -0.088923 -0.944892 -0.699163  \n",
       "1756  0.138883 -0.957434  0.526127 -0.019683 -0.842406 -0.879651 -0.759638  \n",
       "2346 -1.137112  0.155095 -0.143831  0.758476 -0.075998 -1.059547 -0.109672  \n",
       "2996  1.359778  0.281754 -1.950171 -0.372190  0.497917  1.159817  0.812185  \n",
       "\n",
       "[5 rows x 30 columns]"
      ]
     },
     "execution_count": 20,
     "metadata": {},
     "output_type": "execute_result"
    }
   ],
   "source": [
    "xtarin.head()"
   ]
  },
  {
   "cell_type": "code",
   "execution_count": 21,
   "metadata": {},
   "outputs": [
    {
     "data": {
      "text/html": [
       "<div>\n",
       "<style scoped>\n",
       "    .dataframe tbody tr th:only-of-type {\n",
       "        vertical-align: middle;\n",
       "    }\n",
       "\n",
       "    .dataframe tbody tr th {\n",
       "        vertical-align: top;\n",
       "    }\n",
       "\n",
       "    .dataframe thead th {\n",
       "        text-align: right;\n",
       "    }\n",
       "</style>\n",
       "<table border=\"1\" class=\"dataframe\">\n",
       "  <thead>\n",
       "    <tr style=\"text-align: right;\">\n",
       "      <th></th>\n",
       "      <th>x1</th>\n",
       "      <th>x2</th>\n",
       "      <th>x3</th>\n",
       "      <th>x4</th>\n",
       "      <th>x5</th>\n",
       "      <th>x6</th>\n",
       "      <th>x7</th>\n",
       "      <th>x8</th>\n",
       "      <th>x9</th>\n",
       "      <th>x10</th>\n",
       "      <th>...</th>\n",
       "      <th>x21</th>\n",
       "      <th>x22</th>\n",
       "      <th>x23</th>\n",
       "      <th>x24</th>\n",
       "      <th>x25</th>\n",
       "      <th>x26</th>\n",
       "      <th>x27</th>\n",
       "      <th>x28</th>\n",
       "      <th>x29</th>\n",
       "      <th>x30</th>\n",
       "    </tr>\n",
       "  </thead>\n",
       "  <tbody>\n",
       "    <tr>\n",
       "      <th>1782</th>\n",
       "      <td>-1.541585</td>\n",
       "      <td>-0.621096</td>\n",
       "      <td>1.446116</td>\n",
       "      <td>0.526833</td>\n",
       "      <td>0.092480</td>\n",
       "      <td>-0.872741</td>\n",
       "      <td>0.763647</td>\n",
       "      <td>-0.005977</td>\n",
       "      <td>0.803367</td>\n",
       "      <td>-1.141591</td>\n",
       "      <td>...</td>\n",
       "      <td>0.455955</td>\n",
       "      <td>-1.193269</td>\n",
       "      <td>-1.074553</td>\n",
       "      <td>0.600377</td>\n",
       "      <td>0.909267</td>\n",
       "      <td>-0.736203</td>\n",
       "      <td>-0.555873</td>\n",
       "      <td>-0.802501</td>\n",
       "      <td>0.419976</td>\n",
       "      <td>0.590310</td>\n",
       "    </tr>\n",
       "    <tr>\n",
       "      <th>3917</th>\n",
       "      <td>0.195244</td>\n",
       "      <td>-0.789687</td>\n",
       "      <td>-2.082877</td>\n",
       "      <td>0.086383</td>\n",
       "      <td>0.500841</td>\n",
       "      <td>-0.817277</td>\n",
       "      <td>0.081145</td>\n",
       "      <td>0.734700</td>\n",
       "      <td>0.783167</td>\n",
       "      <td>0.804133</td>\n",
       "      <td>...</td>\n",
       "      <td>-0.758443</td>\n",
       "      <td>0.380874</td>\n",
       "      <td>0.542159</td>\n",
       "      <td>-0.324582</td>\n",
       "      <td>-0.505033</td>\n",
       "      <td>-0.188219</td>\n",
       "      <td>-0.230193</td>\n",
       "      <td>-0.030395</td>\n",
       "      <td>-0.044454</td>\n",
       "      <td>-0.496936</td>\n",
       "    </tr>\n",
       "    <tr>\n",
       "      <th>221</th>\n",
       "      <td>1.194991</td>\n",
       "      <td>-0.064019</td>\n",
       "      <td>0.585004</td>\n",
       "      <td>1.023460</td>\n",
       "      <td>0.796115</td>\n",
       "      <td>-0.058792</td>\n",
       "      <td>0.621334</td>\n",
       "      <td>1.283837</td>\n",
       "      <td>0.847144</td>\n",
       "      <td>0.590837</td>\n",
       "      <td>...</td>\n",
       "      <td>-0.117730</td>\n",
       "      <td>2.156139</td>\n",
       "      <td>-0.052305</td>\n",
       "      <td>0.966632</td>\n",
       "      <td>-0.532152</td>\n",
       "      <td>0.421381</td>\n",
       "      <td>0.331739</td>\n",
       "      <td>-2.059234</td>\n",
       "      <td>-0.222865</td>\n",
       "      <td>0.206466</td>\n",
       "    </tr>\n",
       "    <tr>\n",
       "      <th>2135</th>\n",
       "      <td>0.346122</td>\n",
       "      <td>-0.267713</td>\n",
       "      <td>-0.046916</td>\n",
       "      <td>-0.878599</td>\n",
       "      <td>0.394272</td>\n",
       "      <td>-1.503213</td>\n",
       "      <td>0.633133</td>\n",
       "      <td>0.949152</td>\n",
       "      <td>-0.097784</td>\n",
       "      <td>1.383897</td>\n",
       "      <td>...</td>\n",
       "      <td>0.312512</td>\n",
       "      <td>-0.631066</td>\n",
       "      <td>-0.183804</td>\n",
       "      <td>-0.157119</td>\n",
       "      <td>0.659853</td>\n",
       "      <td>0.047864</td>\n",
       "      <td>-0.633288</td>\n",
       "      <td>0.607493</td>\n",
       "      <td>0.463069</td>\n",
       "      <td>-1.438327</td>\n",
       "    </tr>\n",
       "    <tr>\n",
       "      <th>5224</th>\n",
       "      <td>0.736885</td>\n",
       "      <td>0.647841</td>\n",
       "      <td>-0.495896</td>\n",
       "      <td>0.317570</td>\n",
       "      <td>-0.551170</td>\n",
       "      <td>1.034425</td>\n",
       "      <td>0.252213</td>\n",
       "      <td>-0.464908</td>\n",
       "      <td>-0.701343</td>\n",
       "      <td>-0.305647</td>\n",
       "      <td>...</td>\n",
       "      <td>0.777272</td>\n",
       "      <td>0.567679</td>\n",
       "      <td>0.607205</td>\n",
       "      <td>-1.105710</td>\n",
       "      <td>0.868539</td>\n",
       "      <td>-2.016291</td>\n",
       "      <td>-0.972826</td>\n",
       "      <td>0.877120</td>\n",
       "      <td>0.616826</td>\n",
       "      <td>1.055217</td>\n",
       "    </tr>\n",
       "  </tbody>\n",
       "</table>\n",
       "<p>5 rows × 30 columns</p>\n",
       "</div>"
      ],
      "text/plain": [
       "            x1        x2        x3        x4        x5        x6        x7  \\\n",
       "1782 -1.541585 -0.621096  1.446116  0.526833  0.092480 -0.872741  0.763647   \n",
       "3917  0.195244 -0.789687 -2.082877  0.086383  0.500841 -0.817277  0.081145   \n",
       "221   1.194991 -0.064019  0.585004  1.023460  0.796115 -0.058792  0.621334   \n",
       "2135  0.346122 -0.267713 -0.046916 -0.878599  0.394272 -1.503213  0.633133   \n",
       "5224  0.736885  0.647841 -0.495896  0.317570 -0.551170  1.034425  0.252213   \n",
       "\n",
       "            x8        x9       x10  ...       x21       x22       x23  \\\n",
       "1782 -0.005977  0.803367 -1.141591  ...  0.455955 -1.193269 -1.074553   \n",
       "3917  0.734700  0.783167  0.804133  ... -0.758443  0.380874  0.542159   \n",
       "221   1.283837  0.847144  0.590837  ... -0.117730  2.156139 -0.052305   \n",
       "2135  0.949152 -0.097784  1.383897  ...  0.312512 -0.631066 -0.183804   \n",
       "5224 -0.464908 -0.701343 -0.305647  ...  0.777272  0.567679  0.607205   \n",
       "\n",
       "           x24       x25       x26       x27       x28       x29       x30  \n",
       "1782  0.600377  0.909267 -0.736203 -0.555873 -0.802501  0.419976  0.590310  \n",
       "3917 -0.324582 -0.505033 -0.188219 -0.230193 -0.030395 -0.044454 -0.496936  \n",
       "221   0.966632 -0.532152  0.421381  0.331739 -2.059234 -0.222865  0.206466  \n",
       "2135 -0.157119  0.659853  0.047864 -0.633288  0.607493  0.463069 -1.438327  \n",
       "5224 -1.105710  0.868539 -2.016291 -0.972826  0.877120  0.616826  1.055217  \n",
       "\n",
       "[5 rows x 30 columns]"
      ]
     },
     "execution_count": 21,
     "metadata": {},
     "output_type": "execute_result"
    }
   ],
   "source": [
    "xtest.head()"
   ]
  },
  {
   "cell_type": "code",
   "execution_count": 22,
   "metadata": {},
   "outputs": [
    {
     "data": {
      "text/plain": [
       "array([[0., 1., 0.],\n",
       "       [0., 0., 1.],\n",
       "       [1., 0., 0.],\n",
       "       [0., 1., 0.],\n",
       "       [0., 1., 0.]], dtype=float32)"
      ]
     },
     "execution_count": 22,
     "metadata": {},
     "output_type": "execute_result"
    }
   ],
   "source": [
    "ytrain[0:5]"
   ]
  },
  {
   "cell_type": "code",
   "execution_count": 23,
   "metadata": {},
   "outputs": [
    {
     "data": {
      "text/plain": [
       "array([[1., 0., 0.],\n",
       "       [0., 0., 1.],\n",
       "       [0., 0., 1.],\n",
       "       [0., 0., 1.],\n",
       "       [0., 0., 1.]], dtype=float32)"
      ]
     },
     "execution_count": 23,
     "metadata": {},
     "output_type": "execute_result"
    }
   ],
   "source": [
    "ytest[0:5]"
   ]
  },
  {
   "cell_type": "code",
   "execution_count": 24,
   "metadata": {},
   "outputs": [
    {
     "data": {
      "text/plain": [
       "(4800, 30)"
      ]
     },
     "execution_count": 24,
     "metadata": {},
     "output_type": "execute_result"
    }
   ],
   "source": [
    "xtarin.shape"
   ]
  },
  {
   "cell_type": "code",
   "execution_count": 25,
   "metadata": {},
   "outputs": [
    {
     "data": {
      "text/plain": [
       "(1200, 30)"
      ]
     },
     "execution_count": 25,
     "metadata": {},
     "output_type": "execute_result"
    }
   ],
   "source": [
    "xtest.shape"
   ]
  },
  {
   "cell_type": "code",
   "execution_count": 26,
   "metadata": {},
   "outputs": [
    {
     "data": {
      "text/plain": [
       "(1200, 3)"
      ]
     },
     "execution_count": 26,
     "metadata": {},
     "output_type": "execute_result"
    }
   ],
   "source": [
    "ytest.shape"
   ]
  },
  {
   "cell_type": "code",
   "execution_count": 27,
   "metadata": {},
   "outputs": [
    {
     "data": {
      "text/plain": [
       "30"
      ]
     },
     "execution_count": 27,
     "metadata": {},
     "output_type": "execute_result"
    }
   ],
   "source": [
    "xtarin.shape[1]"
   ]
  },
  {
   "cell_type": "code",
   "execution_count": 28,
   "metadata": {},
   "outputs": [
    {
     "data": {
      "text/plain": [
       "(4800, 3)"
      ]
     },
     "execution_count": 28,
     "metadata": {},
     "output_type": "execute_result"
    }
   ],
   "source": [
    "ytrain.shape"
   ]
  },
  {
   "cell_type": "markdown",
   "metadata": {},
   "source": [
    "### start buliding the keras model "
   ]
  },
  {
   "cell_type": "code",
   "execution_count": 29,
   "metadata": {},
   "outputs": [],
   "source": [
    "from keras.models import Sequential\n",
    "from keras.layers import Dense ,Dropout\n",
    "from keras.callbacks import EarlyStopping"
   ]
  },
  {
   "cell_type": "code",
   "execution_count": 30,
   "metadata": {},
   "outputs": [],
   "source": [
    "model= Sequential()\n",
    "\n",
    "### hidden layer 1\n",
    "model.add(Dense(64, activation='relu', input_dim=xtarin.shape[1]))\n",
    "## dropout layer 1\n",
    "model.add(Dropout(0.3))\n",
    "\n",
    "## hidden layer 2\n",
    "model.add(Dense(32, activation='relu'))\n",
    "## dropout layer 2\n",
    "model.add(Dropout(0.2))\n",
    "## outpute layer contain number of classes as output \n",
    "model.add(Dense(3, activation='softmax'))"
   ]
  },
  {
   "cell_type": "code",
   "execution_count": 31,
   "metadata": {},
   "outputs": [
    {
     "name": "stdout",
     "output_type": "stream",
     "text": [
      "Model: \"sequential\"\n",
      "_________________________________________________________________\n",
      " Layer (type)                Output Shape              Param #   \n",
      "=================================================================\n",
      " dense (Dense)               (None, 64)                1984      \n",
      "                                                                 \n",
      " dropout (Dropout)           (None, 64)                0         \n",
      "                                                                 \n",
      " dense_1 (Dense)             (None, 32)                2080      \n",
      "                                                                 \n",
      " dropout_1 (Dropout)         (None, 32)                0         \n",
      "                                                                 \n",
      " dense_2 (Dense)             (None, 3)                 99        \n",
      "                                                                 \n",
      "=================================================================\n",
      "Total params: 4163 (16.26 KB)\n",
      "Trainable params: 4163 (16.26 KB)\n",
      "Non-trainable params: 0 (0.00 Byte)\n",
      "_________________________________________________________________\n"
     ]
    }
   ],
   "source": [
    "model.summary()"
   ]
  },
  {
   "cell_type": "markdown",
   "metadata": {},
   "source": [
    "#### complile function "
   ]
  },
  {
   "cell_type": "code",
   "execution_count": 32,
   "metadata": {},
   "outputs": [],
   "source": [
    "model.compile(optimizer='adam', loss='categorical_crossentropy',metrics=['accuracy','AUC'])"
   ]
  },
  {
   "cell_type": "markdown",
   "metadata": {},
   "source": [
    "### create a callback "
   ]
  },
  {
   "cell_type": "code",
   "execution_count": 33,
   "metadata": {},
   "outputs": [],
   "source": [
    "callback =EarlyStopping(monitor='val_loss',patience=10)"
   ]
  },
  {
   "cell_type": "code",
   "execution_count": 34,
   "metadata": {},
   "outputs": [
    {
     "name": "stdout",
     "output_type": "stream",
     "text": [
      "Epoch 1/200\n"
     ]
    },
    {
     "name": "stdout",
     "output_type": "stream",
     "text": [
      "120/120 [==============================] - 3s 10ms/step - loss: 1.0375 - accuracy: 0.4797 - auc: 0.6648 - val_loss: 0.8071 - val_accuracy: 0.6719 - val_auc: 0.8544\n",
      "Epoch 2/200\n",
      "120/120 [==============================] - 1s 5ms/step - loss: 0.8205 - accuracy: 0.6279 - auc: 0.8110 - val_loss: 0.6442 - val_accuracy: 0.7385 - val_auc: 0.9035\n",
      "Epoch 3/200\n",
      "120/120 [==============================] - 1s 5ms/step - loss: 0.7133 - accuracy: 0.6852 - auc: 0.8597 - val_loss: 0.5640 - val_accuracy: 0.7771 - val_auc: 0.9237\n",
      "Epoch 4/200\n",
      "120/120 [==============================] - 1s 5ms/step - loss: 0.6531 - accuracy: 0.7224 - auc: 0.8844 - val_loss: 0.5151 - val_accuracy: 0.8042 - val_auc: 0.9374\n",
      "Epoch 5/200\n",
      "120/120 [==============================] - 1s 6ms/step - loss: 0.6124 - accuracy: 0.7372 - auc: 0.8987 - val_loss: 0.4751 - val_accuracy: 0.8125 - val_auc: 0.9455\n",
      "Epoch 6/200\n",
      "120/120 [==============================] - 1s 6ms/step - loss: 0.5597 - accuracy: 0.7716 - auc: 0.9162 - val_loss: 0.4359 - val_accuracy: 0.8313 - val_auc: 0.9530\n",
      "Epoch 7/200\n",
      "120/120 [==============================] - 1s 5ms/step - loss: 0.5157 - accuracy: 0.7885 - auc: 0.9288 - val_loss: 0.4083 - val_accuracy: 0.8365 - val_auc: 0.9578\n",
      "Epoch 8/200\n",
      "120/120 [==============================] - 1s 5ms/step - loss: 0.5014 - accuracy: 0.7964 - auc: 0.9323 - val_loss: 0.3856 - val_accuracy: 0.8490 - val_auc: 0.9626\n",
      "Epoch 9/200\n",
      "120/120 [==============================] - 1s 5ms/step - loss: 0.4617 - accuracy: 0.8164 - auc: 0.9434 - val_loss: 0.3591 - val_accuracy: 0.8542 - val_auc: 0.9679\n",
      "Epoch 10/200\n",
      "120/120 [==============================] - 1s 5ms/step - loss: 0.4494 - accuracy: 0.8216 - auc: 0.9466 - val_loss: 0.3390 - val_accuracy: 0.8646 - val_auc: 0.9717\n",
      "Epoch 11/200\n",
      "120/120 [==============================] - 1s 5ms/step - loss: 0.4238 - accuracy: 0.8323 - auc: 0.9522 - val_loss: 0.3285 - val_accuracy: 0.8677 - val_auc: 0.9725\n",
      "Epoch 12/200\n",
      "120/120 [==============================] - 1s 5ms/step - loss: 0.4143 - accuracy: 0.8422 - auc: 0.9546 - val_loss: 0.3163 - val_accuracy: 0.8729 - val_auc: 0.9749\n",
      "Epoch 13/200\n",
      "120/120 [==============================] - 1s 5ms/step - loss: 0.3932 - accuracy: 0.8440 - auc: 0.9591 - val_loss: 0.2981 - val_accuracy: 0.8896 - val_auc: 0.9778\n",
      "Epoch 14/200\n",
      "120/120 [==============================] - 1s 5ms/step - loss: 0.3778 - accuracy: 0.8576 - auc: 0.9631 - val_loss: 0.2995 - val_accuracy: 0.8927 - val_auc: 0.9768\n",
      "Epoch 15/200\n",
      "120/120 [==============================] - 1s 5ms/step - loss: 0.3726 - accuracy: 0.8531 - auc: 0.9629 - val_loss: 0.2833 - val_accuracy: 0.8927 - val_auc: 0.9795\n",
      "Epoch 16/200\n",
      "120/120 [==============================] - 1s 5ms/step - loss: 0.3462 - accuracy: 0.8664 - auc: 0.9675 - val_loss: 0.2787 - val_accuracy: 0.8938 - val_auc: 0.9795\n",
      "Epoch 17/200\n",
      "120/120 [==============================] - 1s 5ms/step - loss: 0.3429 - accuracy: 0.8633 - auc: 0.9683 - val_loss: 0.2694 - val_accuracy: 0.9010 - val_auc: 0.9808\n",
      "Epoch 18/200\n",
      "120/120 [==============================] - 1s 5ms/step - loss: 0.3309 - accuracy: 0.8773 - auc: 0.9714 - val_loss: 0.2644 - val_accuracy: 0.9052 - val_auc: 0.9814\n",
      "Epoch 19/200\n",
      "120/120 [==============================] - 1s 5ms/step - loss: 0.3395 - accuracy: 0.8716 - auc: 0.9693 - val_loss: 0.2501 - val_accuracy: 0.9125 - val_auc: 0.9838\n",
      "Epoch 20/200\n",
      "120/120 [==============================] - 1s 5ms/step - loss: 0.3229 - accuracy: 0.8773 - auc: 0.9728 - val_loss: 0.2527 - val_accuracy: 0.9094 - val_auc: 0.9829\n",
      "Epoch 21/200\n",
      "120/120 [==============================] - 1s 5ms/step - loss: 0.3117 - accuracy: 0.8805 - auc: 0.9751 - val_loss: 0.2507 - val_accuracy: 0.9083 - val_auc: 0.9831\n",
      "Epoch 22/200\n",
      "120/120 [==============================] - 1s 5ms/step - loss: 0.3105 - accuracy: 0.8854 - auc: 0.9740 - val_loss: 0.2517 - val_accuracy: 0.9125 - val_auc: 0.9827\n",
      "Epoch 23/200\n",
      "120/120 [==============================] - 1s 5ms/step - loss: 0.2961 - accuracy: 0.8888 - auc: 0.9769 - val_loss: 0.2465 - val_accuracy: 0.9115 - val_auc: 0.9834\n",
      "Epoch 24/200\n",
      "120/120 [==============================] - 1s 5ms/step - loss: 0.3077 - accuracy: 0.8807 - auc: 0.9747 - val_loss: 0.2435 - val_accuracy: 0.9146 - val_auc: 0.9837\n",
      "Epoch 25/200\n",
      "120/120 [==============================] - 1s 5ms/step - loss: 0.2781 - accuracy: 0.9026 - auc: 0.9789 - val_loss: 0.2322 - val_accuracy: 0.9156 - val_auc: 0.9851\n",
      "Epoch 26/200\n",
      "120/120 [==============================] - 1s 5ms/step - loss: 0.2637 - accuracy: 0.9044 - auc: 0.9812 - val_loss: 0.2326 - val_accuracy: 0.9208 - val_auc: 0.9849\n",
      "Epoch 27/200\n",
      "120/120 [==============================] - 1s 5ms/step - loss: 0.2814 - accuracy: 0.8938 - auc: 0.9786 - val_loss: 0.2328 - val_accuracy: 0.9219 - val_auc: 0.9848\n",
      "Epoch 28/200\n",
      "120/120 [==============================] - 1s 6ms/step - loss: 0.2674 - accuracy: 0.9047 - auc: 0.9804 - val_loss: 0.2251 - val_accuracy: 0.9229 - val_auc: 0.9859\n",
      "Epoch 29/200\n",
      "120/120 [==============================] - 1s 5ms/step - loss: 0.2747 - accuracy: 0.8948 - auc: 0.9798 - val_loss: 0.2310 - val_accuracy: 0.9229 - val_auc: 0.9848\n",
      "Epoch 30/200\n",
      "120/120 [==============================] - 1s 6ms/step - loss: 0.2647 - accuracy: 0.9008 - auc: 0.9806 - val_loss: 0.2325 - val_accuracy: 0.9229 - val_auc: 0.9846\n",
      "Epoch 31/200\n",
      "120/120 [==============================] - 1s 6ms/step - loss: 0.2644 - accuracy: 0.9013 - auc: 0.9806 - val_loss: 0.2270 - val_accuracy: 0.9219 - val_auc: 0.9854\n",
      "Epoch 32/200\n",
      "120/120 [==============================] - 1s 6ms/step - loss: 0.2487 - accuracy: 0.9161 - auc: 0.9830 - val_loss: 0.2349 - val_accuracy: 0.9177 - val_auc: 0.9843\n",
      "Epoch 33/200\n",
      "120/120 [==============================] - 1s 7ms/step - loss: 0.2531 - accuracy: 0.9073 - auc: 0.9827 - val_loss: 0.2272 - val_accuracy: 0.9229 - val_auc: 0.9854\n",
      "Epoch 34/200\n",
      "120/120 [==============================] - 1s 5ms/step - loss: 0.2509 - accuracy: 0.9062 - auc: 0.9828 - val_loss: 0.2251 - val_accuracy: 0.9219 - val_auc: 0.9854\n",
      "Epoch 35/200\n",
      "120/120 [==============================] - 1s 6ms/step - loss: 0.2392 - accuracy: 0.9138 - auc: 0.9842 - val_loss: 0.2209 - val_accuracy: 0.9198 - val_auc: 0.9861\n",
      "Epoch 36/200\n",
      "120/120 [==============================] - 1s 6ms/step - loss: 0.2413 - accuracy: 0.9138 - auc: 0.9837 - val_loss: 0.2282 - val_accuracy: 0.9187 - val_auc: 0.9852\n",
      "Epoch 37/200\n",
      "120/120 [==============================] - 1s 5ms/step - loss: 0.2377 - accuracy: 0.9182 - auc: 0.9848 - val_loss: 0.2337 - val_accuracy: 0.9219 - val_auc: 0.9841\n",
      "Epoch 38/200\n",
      "120/120 [==============================] - 1s 5ms/step - loss: 0.2399 - accuracy: 0.9169 - auc: 0.9841 - val_loss: 0.2198 - val_accuracy: 0.9219 - val_auc: 0.9859\n",
      "Epoch 39/200\n",
      "120/120 [==============================] - 1s 6ms/step - loss: 0.2353 - accuracy: 0.9138 - auc: 0.9851 - val_loss: 0.2287 - val_accuracy: 0.9260 - val_auc: 0.9850\n",
      "Epoch 40/200\n",
      "120/120 [==============================] - 1s 5ms/step - loss: 0.2331 - accuracy: 0.9182 - auc: 0.9847 - val_loss: 0.2154 - val_accuracy: 0.9229 - val_auc: 0.9868\n",
      "Epoch 41/200\n",
      "120/120 [==============================] - 1s 6ms/step - loss: 0.2323 - accuracy: 0.9190 - auc: 0.9851 - val_loss: 0.2219 - val_accuracy: 0.9240 - val_auc: 0.9860\n",
      "Epoch 42/200\n",
      "120/120 [==============================] - 1s 7ms/step - loss: 0.2247 - accuracy: 0.9237 - auc: 0.9864 - val_loss: 0.2230 - val_accuracy: 0.9198 - val_auc: 0.9856\n",
      "Epoch 43/200\n",
      "120/120 [==============================] - 1s 6ms/step - loss: 0.2122 - accuracy: 0.9253 - auc: 0.9870 - val_loss: 0.2201 - val_accuracy: 0.9250 - val_auc: 0.9858\n",
      "Epoch 44/200\n",
      "120/120 [==============================] - 1s 6ms/step - loss: 0.2090 - accuracy: 0.9297 - auc: 0.9879 - val_loss: 0.2235 - val_accuracy: 0.9240 - val_auc: 0.9852\n",
      "Epoch 45/200\n",
      "120/120 [==============================] - 1s 5ms/step - loss: 0.2204 - accuracy: 0.9273 - auc: 0.9866 - val_loss: 0.2261 - val_accuracy: 0.9240 - val_auc: 0.9852\n",
      "Epoch 46/200\n",
      "120/120 [==============================] - 1s 5ms/step - loss: 0.2067 - accuracy: 0.9263 - auc: 0.9877 - val_loss: 0.2268 - val_accuracy: 0.9219 - val_auc: 0.9851\n",
      "Epoch 47/200\n",
      "120/120 [==============================] - 1s 6ms/step - loss: 0.2201 - accuracy: 0.9268 - auc: 0.9862 - val_loss: 0.2248 - val_accuracy: 0.9250 - val_auc: 0.9851\n",
      "Epoch 48/200\n",
      "120/120 [==============================] - 1s 6ms/step - loss: 0.2086 - accuracy: 0.9245 - auc: 0.9874 - val_loss: 0.2269 - val_accuracy: 0.9250 - val_auc: 0.9844\n",
      "Epoch 49/200\n",
      "120/120 [==============================] - 1s 6ms/step - loss: 0.1987 - accuracy: 0.9297 - auc: 0.9887 - val_loss: 0.2258 - val_accuracy: 0.9250 - val_auc: 0.9853\n",
      "Epoch 50/200\n",
      "120/120 [==============================] - 1s 8ms/step - loss: 0.2024 - accuracy: 0.9336 - auc: 0.9888 - val_loss: 0.2219 - val_accuracy: 0.9271 - val_auc: 0.9859\n"
     ]
    }
   ],
   "source": [
    "hist = model.fit(xtarin , ytrain, validation_split=0.2, epochs=200 ,callbacks=[callback])"
   ]
  },
  {
   "cell_type": "markdown",
   "metadata": {},
   "source": [
    "### viualize the learning curve "
   ]
  },
  {
   "cell_type": "code",
   "execution_count": 35,
   "metadata": {},
   "outputs": [
    {
     "data": {
      "image/png": "[encoded data removed]",
      "text/plain": [
       "<Figure size 1600x800 with 1 Axes>"
      ]
     },
     "metadata": {},
     "output_type": "display_data"
    }
   ],
   "source": [
    "import matplotlib.pyplot as plt\n",
    "plt.figure(figsize=(16,8))\n",
    "plt.plot(hist.history['loss'],label ='train_CCE')\n",
    "plt.plot(hist.history['val_loss'], label= 'test_CCE')\n",
    "plt.xlabel('Epochs')\n",
    "plt.ylabel('categorical crossemtropy')\n",
    "plt.title('learning cruve')\n",
    "plt.legend()\n",
    "plt.show()"
   ]
  },
  {
   "cell_type": "markdown",
   "metadata": {},
   "source": [
    "### evalute the model in xtarin ytest"
   ]
  },
  {
   "cell_type": "code",
   "execution_count": 36,
   "metadata": {},
   "outputs": [
    {
     "name": "stdout",
     "output_type": "stream",
     "text": [
      "150/150 [==============================] - 1s 4ms/step - loss: 0.1273 - accuracy: 0.9669 - auc: 0.9946\n"
     ]
    },
    {
     "data": {
      "text/plain": [
       "[0.1273227035999298, 0.9668750166893005, 0.9945808053016663]"
      ]
     },
     "execution_count": 36,
     "metadata": {},
     "output_type": "execute_result"
    }
   ],
   "source": [
    "model.evaluate( xtarin , ytrain)"
   ]
  },
  {
   "cell_type": "code",
   "execution_count": 37,
   "metadata": {},
   "outputs": [
    {
     "name": "stdout",
     "output_type": "stream",
     "text": [
      "38/38 [==============================] - 1s 4ms/step - loss: 0.2373 - accuracy: 0.9258 - auc: 0.9847\n"
     ]
    },
    {
     "data": {
      "text/plain": [
       "[0.23733052611351013, 0.9258333444595337, 0.9847262501716614]"
      ]
     },
     "execution_count": 37,
     "metadata": {},
     "output_type": "execute_result"
    }
   ],
   "source": [
    "model.evaluate(xtest, ytest)"
   ]
  },
  {
   "cell_type": "markdown",
   "metadata": {},
   "source": [
    "#### predcting the results "
   ]
  },
  {
   "cell_type": "code",
   "execution_count": 38,
   "metadata": {},
   "outputs": [
    {
     "name": "stdout",
     "output_type": "stream",
     "text": [
      "150/150 [==============================] - 0s 2ms/step\n",
      "38/38 [==============================] - 1s 6ms/step\n"
     ]
    }
   ],
   "source": [
    "yprob_tr =model.predict(xtarin)\n",
    "yprob_ts =model.predict(xtest)"
   ]
  },
  {
   "cell_type": "code",
   "execution_count": 39,
   "metadata": {},
   "outputs": [
    {
     "data": {
      "text/plain": [
       "array([[8.4719006e-03, 9.9000472e-01, 1.5234253e-03],\n",
       "       [5.8471905e-08, 1.2466954e-05, 9.9998748e-01],\n",
       "       [8.6971563e-01, 3.9087889e-05, 1.3024531e-01],\n",
       "       ...,\n",
       "       [7.0641196e-05, 5.3995161e-04, 9.9938941e-01],\n",
       "       [9.9793112e-01, 1.6284075e-04, 1.9060021e-03],\n",
       "       [9.9355537e-01, 3.3048591e-06, 6.4412998e-03]], dtype=float32)"
      ]
     },
     "execution_count": 39,
     "metadata": {},
     "output_type": "execute_result"
    }
   ],
   "source": [
    "yprob_tr"
   ]
  },
  {
   "cell_type": "code",
   "execution_count": 40,
   "metadata": {},
   "outputs": [
    {
     "data": {
      "text/plain": [
       "array([0.7168825 , 0.27417347, 0.00894402], dtype=float32)"
      ]
     },
     "execution_count": 40,
     "metadata": {},
     "output_type": "execute_result"
    }
   ],
   "source": [
    "yprob_ts[0]"
   ]
  },
  {
   "cell_type": "markdown",
   "metadata": {},
   "source": [
    "### pridiction for values "
   ]
  },
  {
   "cell_type": "code",
   "execution_count": 41,
   "metadata": {},
   "outputs": [
    {
     "data": {
      "text/plain": [
       "array([1, 2, 0, ..., 2, 0, 0], dtype=int64)"
      ]
     },
     "execution_count": 41,
     "metadata": {},
     "output_type": "execute_result"
    }
   ],
   "source": [
    "yprd_tr =np.argmax(yprob_tr ,axis= -1)\n",
    "yprd_tr"
   ]
  },
  {
   "cell_type": "code",
   "execution_count": 42,
   "metadata": {},
   "outputs": [
    {
     "data": {
      "text/plain": [
       "array([0, 2, 2, ..., 2, 0, 0], dtype=int64)"
      ]
     },
     "execution_count": 42,
     "metadata": {},
     "output_type": "execute_result"
    }
   ],
   "source": [
    "ypred_ts =np.argmax(yprob_ts ,axis=-1)\n",
    "ypred_ts"
   ]
  },
  {
   "cell_type": "code",
   "execution_count": null,
   "metadata": {},
   "outputs": [],
   "source": []
  }
 ],
 "metadata": {
  "kernelspec": {
   "display_name": "venv",
   "language": "python",
   "name": "python3"
  },
  "language_info": {
   "codemirror_mode": {
    "name": "ipython",
    "version": 3
   },
   "file_extension": ".py",
   "mimetype": "text/x-python",
   "name": "python",
   "nbconvert_exporter": "python",
   "pygments_lexer": "ipython3",
   "version": "3.10.9"
  }
 },
 "nbformat": 4,
 "nbformat_minor": 2
}
